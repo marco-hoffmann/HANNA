{
 "cells": [
  {
   "cell_type": "code",
   "execution_count": null,
   "id": "5cd0c67f",
   "metadata": {},
   "outputs": [],
   "source": [
    "from utils.HANNA_predictor import HANNA_Predictor\n",
    "\n",
    "# Initialize the HANNA predictor\n",
    "predictor = HANNA_Predictor()\n",
    "# Test prediction with ethanol('CCO')-water('O')-hexane('CCCCCC') system\n",
    "smiles_list = ['CCO', 'O', 'CCCCCC']\n",
    "# Input mole fractions of all components\n",
    "molar_fractions_all = [[0.5, 0.3, 0.2], [1.0, 0.0, 0.0]]\n",
    "# Temperature in Kelvin\n",
    "temperature = 350\n",
    "# Test prediction with ethanol-water-hexane system\n",
    "ln_gammas, gE = predictor.predict(\n",
    "    smiles_list=smiles_list,\n",
    "    molar_fractions_all=molar_fractions_all,\n",
    "    temperature=temperature\n",
    ")\n",
    "\n",
    "print(\"\\nTesting prediction for ethanol-water-hexane system:\")\n",
    "print(\"Components: ['CCO' (ethanol), 'O' (water), 'CCCCCC' (hexane)]\")\n",
    "print(\"Mole fractions:\", molar_fractions_all)\n",
    "print(\"Temperature:\", f\"{temperature} K\")\n",
    "\n",
    "\n",
    "print(f\"\\nResults:\")\n",
    "print(f\"Logarithmic Activity Coefficients of Ethanol = {ln_gammas[:,0]}\")\n",
    "print(f\"Logarithmic Activity Coefficients of Water = {ln_gammas[:,1]}\")\n",
    "print(f\"Logarithmic Activity Coefficients of Hexane = {ln_gammas[:,2]}\")\n",
    "print(f\"Excess Gibbs Energy = {gE}\")"
   ]
  }
 ],
 "metadata": {
  "kernelspec": {
   "display_name": "HANNA_environment",
   "language": "python",
   "name": "python3"
  },
  "language_info": {
   "codemirror_mode": {
    "name": "ipython",
    "version": 3
   },
   "file_extension": ".py",
   "mimetype": "text/x-python",
   "name": "python",
   "nbconvert_exporter": "python",
   "pygments_lexer": "ipython3",
   "version": "3.10.18"
  }
 },
 "nbformat": 4,
 "nbformat_minor": 5
}

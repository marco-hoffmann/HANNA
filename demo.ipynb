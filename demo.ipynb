{
 "cells": [
  {
   "cell_type": "code",
   "execution_count": 8,
   "id": "5cd0c67f",
   "metadata": {},
   "outputs": [
    {
     "name": "stdout",
     "output_type": "stream",
     "text": [
      "Loading ensemble with 10 models...\n",
      "\n",
      "Testing prediction for ethanol-water-hexane system:\n",
      "Components: ['CCO' (ethanol), 'O' (water), 'CCCCCC' (hexane)]\n",
      "Mole fractions: [[0.5, 0.3, 0.2], [0.1, 0.9, 0.0]]\n",
      "Temperature: 350 K\n",
      "\n",
      "Results:\n",
      "Logarithmic Activity Coefficients of Ethanol = [-0.1135371  0.       ]\n",
      "Logarithmic Activity Coefficients of Water = [1.4485636 0.9631777]\n",
      "Logarithmic Activity Coefficients of Hexane = [2.126268 2.255947]\n",
      "Excess Gibbs Energy = [0.80305403 0.        ]\n"
     ]
    }
   ],
   "source": [
    "from utils.HANNA_predictor import HANNA_Predictor\n",
    "\n",
    "# Initialize the HANNA predictor\n",
    "predictor = HANNA_Predictor()\n",
    "\n",
    "# Test prediction with ethanol-water-hexane system\n",
    "print(\"\\nTesting prediction for ethanol-water-hexane system:\")\n",
    "print(\"Components: ['CCO' (ethanol), 'O' (water), 'CCCCCC' (hexane)]\")\n",
    "print(\"Mole fractions: [[0.5, 0.3, 0.2], [0.1, 0.9, 0.0]]\")\n",
    "print(\"Temperature: 350 K\")\n",
    "\n",
    "ln_gammas, gE = predictor.predict(\n",
    "    smiles_list=['CCO', 'O', 'CCCCCC'],\n",
    "    molar_fractions_all=[[0.5, 0.3, 0.2], [1.0, 0.0, 0.0]], \n",
    "    temperature=350\n",
    ")\n",
    "\n",
    "print(f\"\\nResults:\")\n",
    "print(f\"Logarithmic Activity Coefficients of Ethanol = {ln_gammas[:,0]}\")\n",
    "print(f\"Logarithmic Activity Coefficients of Water = {ln_gammas[:,1]}\")\n",
    "print(f\"Logarithmic Activity Coefficients of Hexane = {ln_gammas[:,2]}\")\n",
    "print(f\"Excess Gibbs Energy = {gE}\")"
   ]
  }
 ],
 "metadata": {
  "kernelspec": {
   "display_name": "HANNA_environment",
   "language": "python",
   "name": "python3"
  },
  "language_info": {
   "codemirror_mode": {
    "name": "ipython",
    "version": 3
   },
   "file_extension": ".py",
   "mimetype": "text/x-python",
   "name": "python",
   "nbconvert_exporter": "python",
   "pygments_lexer": "ipython3",
   "version": "3.10.18"
  }
 },
 "nbformat": 4,
 "nbformat_minor": 5
}
